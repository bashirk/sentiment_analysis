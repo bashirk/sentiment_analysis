{
  "nbformat": 4,
  "nbformat_minor": 0,
  "metadata": {
    "colab": {
      "name": "Streamlitdash.ipynb",
      "provenance": [],
      "authorship_tag": "ABX9TyNWi0CSl6nccwotEhrxhVC6",
      "include_colab_link": true
    },
    "kernelspec": {
      "name": "python3",
      "display_name": "Python 3"
    },
    "language_info": {
      "name": "python"
    }
  },
  "cells": [
    {
      "cell_type": "markdown",
      "metadata": {
        "id": "view-in-github",
        "colab_type": "text"
      },
      "source": [
        "<a href=\"https://colab.research.google.com/github/bashirk/sentiment_analysis/blob/main/Streamlitdash.ipynb\" target=\"_parent\"><img src=\"https://colab.research.google.com/assets/colab-badge.svg\" alt=\"Open In Colab\"/></a>"
      ]
    },
    {
      "cell_type": "code",
      "execution_count": null,
      "metadata": {
        "id": "pJXHOkMGkVPo"
      },
      "outputs": [],
      "source": [
        "!pip install streamlit\n",
        "!pip install pyngrok"
      ]
    },
    {
      "cell_type": "code",
      "source": [
        "# install, set connection\n",
        "#!apt-get install mysql-server > /dev/null\n",
        "#!service mysql start\n",
        "#!mysql -e \"ALTER USER 'root'@'localhost' IDENTIFIED WITH mysql_native_password BY 'root'\"\n",
        "#!pip -q install PyMySQL\n",
        "%load_ext sql\n",
        "%config SqlMagic.feedback=False \n",
        "%config SqlMagic.autopandas=True\n",
        "%sql mysql+pymysql://root:root@/\n",
        "# query using %sql or %%sql\n",
        "df = %sql SELECT Host, User, authentication_string FROM mysql.user\n",
        "df"
      ],
      "metadata": {
        "id": "o8gn3vCjk03e"
      },
      "execution_count": null,
      "outputs": []
    },
    {
      "cell_type": "code",
      "source": [
        "!wget \"https://github.com/bashirk/Twitter-Data-Analysis/blob/main/data/Economic_Twitter_Data.zip?raw=true\" -O Economic_Twitter_Data.zip"
      ],
      "metadata": {
        "id": "byMiNV-RnpyR"
      },
      "execution_count": null,
      "outputs": []
    },
    {
      "cell_type": "code",
      "source": [
        "!7z x Economic_Twitter_Data.zip"
      ],
      "metadata": {
        "colab": {
          "base_uri": "https://localhost:8080/"
        },
        "id": "gsJ-VTPynsmU",
        "outputId": "42dbab45-b8bb-40cd-ef0d-66b190c6f69c"
      },
      "execution_count": null,
      "outputs": [
        {
          "metadata": {
            "tags": null
          },
          "name": "stdout",
          "output_type": "stream",
          "text": [
            "\n",
            "7-Zip [64] 16.02 : Copyright (c) 1999-2016 Igor Pavlov : 2016-05-21\n",
            "p7zip Version 16.02 (locale=en_US.UTF-8,Utf16=on,HugeFiles=on,64 bits,2 CPUs Intel(R) Xeon(R) CPU @ 2.20GHz (406F0),ASM,AES-NI)\n",
            "\n",
            "Scanning the drive for archives:\n",
            "  0M Scan\b\b\b\b\b\b\b\b\b         \b\b\b\b\b\b\b\b\b1 file, 10090916 bytes (9855 KiB)\n",
            "\n",
            "Extracting archive: Economic_Twitter_Data.zip\n",
            "--\n",
            "Path = Economic_Twitter_Data.zip\n",
            "Type = zip\n",
            "Physical Size = 10090916\n",
            "\n",
            "  0%\b\b\b\b    \b\b\b\b\n",
            "Would you like to replace the existing file:\n",
            "  Path:     ./Economic_Twitter_Data.json\n",
            "  Size:     124714038 bytes (119 MiB)\n",
            "  Modified: 2022-04-24 06:03:28\n",
            "with the file from archive:\n",
            "  Path:     Economic_Twitter_Data.json\n",
            "  Size:     124714038 bytes (119 MiB)\n",
            "  Modified: 2022-04-24 06:03:28\n",
            "? (Y)es / (N)o / (A)lways / (S)kip all / A(u)to rename all / (Q)uit? "
          ]
        }
      ]
    },
    {
      "cell_type": "code",
      "source": [
        "!head -10 Economic_Twitter_Data.json"
      ],
      "metadata": {
        "id": "WOS4AKn4n4Z7"
      },
      "execution_count": null,
      "outputs": []
    },
    {
      "cell_type": "code",
      "source": [
        "!wget \"https://files.pythonhosted.org/packages/cf/44/cc9590db23758ee7906d40cacff06c02a21c2a6166602e095a56cbf2f6f6/tornado-6.1.tar.gz\" -O tornado-6.1.tar.gz"
      ],
      "metadata": {
        "id": "TxqXxFWNqEug"
      },
      "execution_count": null,
      "outputs": []
    },
    {
      "cell_type": "code",
      "source": [
        "%%writefile streamlit_app.py\n",
        "\n",
        "import streamlit as st\n",
        "import numpy as np\n",
        "import pandas as pd\n",
        "import matplotlib.pyplot as plt\n",
        "import seaborn as sns\n",
        "import plotly.express as px\n",
        "\n",
        "@st.cache\n",
        "def read_df():\n",
        "  df = pd.read_json('Economic_Twitter_Data.json', lines=True)\n",
        "  return df\n",
        "\n",
        "\n",
        "st.set_page_config(\n",
        "\t\tpage_title= \"Data Analytics Dashboard\", # String or None. Strings get appended with \"• Streamlit\".\n",
        "\t\t layout=\"wide\",  # Can be \"centered\" or \"wide\". In the future also \"dashboard\", etc.\n",
        "\t\t #initial_sidebar_state=\"auto\",  # Can be \"auto\", \"expanded\", \"collapsed\"\n",
        "\t\t #page_icon=None,  # String, anything supported by st.image, or None.\n",
        ")\n",
        "\n",
        "col01, col02, col03 = st.columns([1,6,1])\n",
        "\n",
        "with col01:\n",
        "\tst.write(\"\")\n",
        "\n",
        "with col02:\n",
        "\tst.title(\"Welcome to iris analysis\")\n",
        "\n",
        "with col03:\n",
        "\tst.write(\"\")\n",
        " \n",
        "\n",
        "col04, col05, col06 = st.columns([1,6,1])\n",
        "\n",
        "with col04:\n",
        "\tst.write(\"\")\n",
        "\n",
        "with col05:\n",
        "\tst.subheader(\"Iris dataset preview\")\n",
        "\n",
        "with col06:\n",
        "\tst.write(\"\")\n",
        " \n",
        "\n",
        "df1 = read_df()\n",
        "\n",
        "col07, col08, col09 = st.columns([1,6,1])\n",
        "\n",
        "with col04:\n",
        "\tst.write(\"\")\n",
        "\n",
        "with col05:\n",
        "\tst.write(df1.head())\n",
        "\n",
        "with col06:\n",
        "\tst.write(\"\")"
      ],
      "metadata": {
        "id": "rH8pRVBnqqb5"
      },
      "execution_count": null,
      "outputs": []
    },
    {
      "cell_type": "code",
      "source": [
        "import json\n",
        "import pandas as pd\n",
        "from textblob import TextBlob\n",
        "\n",
        "import streamlit as st\n",
        "import numpy as np\n",
        "import pandas as pd\n",
        "import matplotlib.pyplot as plt\n",
        "import seaborn as sns\n",
        "import plotly.express as px"
      ],
      "metadata": {
        "id": "oe94XM97lOQ5"
      },
      "execution_count": null,
      "outputs": []
    },
    {
      "cell_type": "code",
      "source": [
        "import re\n",
        "from os import listdir\n",
        "from os.path import isfile, join\n",
        "from random import shuffle"
      ],
      "metadata": {
        "id": "APTuJGbQoP8Y"
      },
      "execution_count": null,
      "outputs": []
    },
    {
      "cell_type": "code",
      "source": [
        "from sklearn.feature_extraction.text import CountVectorizer, TfidfTransformer\n",
        "from sklearn.decomposition import NMF, LatentDirichletAllocation\n",
        "from sklearn.linear_model import SGDClassifier\n",
        "from sklearn.model_selection import train_test_split\n",
        "from sklearn.model_selection import RandomizedSearchCV"
      ],
      "metadata": {
        "id": "QDxUtdIMoWvE"
      },
      "execution_count": null,
      "outputs": []
    },
    {
      "cell_type": "code",
      "source": [
        "import numpy as np # linear algebra\n",
        "from joblib import dump, load # used for saving and loading sklearn objects\n",
        "from scipy.sparse import save_npz, load_npz # used for saving and loading sparse matrices\n",
        "from scipy.stats import uniform\n",
        "from scipy.sparse import csr_matrix"
      ],
      "metadata": {
        "id": "f-AdnJD6oh2B"
      },
      "execution_count": null,
      "outputs": []
    },
    {
      "cell_type": "code",
      "source": [
        "from pyngrok import ngrok"
      ],
      "metadata": {
        "id": "nV7CN92nrjzx"
      },
      "execution_count": null,
      "outputs": []
    }
  ]
}