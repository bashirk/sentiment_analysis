{
  "nbformat": 4,
  "nbformat_minor": 0,
  "metadata": {
    "colab": {
      "name": "Streamlitdash.ipynb",
      "provenance": [],
      "authorship_tag": "ABX9TyNdjZdR6Q1anpgFHac9ScL2",
      "include_colab_link": true
    },
    "kernelspec": {
      "name": "python3",
      "display_name": "Python 3"
    },
    "language_info": {
      "name": "python"
    }
  },
  "cells": [
    {
      "cell_type": "markdown",
      "metadata": {
        "id": "view-in-github",
        "colab_type": "text"
      },
      "source": [
        "<a href=\"https://colab.research.google.com/github/bashirk/sentiment_analysis/blob/main/Streamlitdash.ipynb\" target=\"_parent\"><img src=\"https://colab.research.google.com/assets/colab-badge.svg\" alt=\"Open In Colab\"/></a>"
      ]
    },
    {
      "cell_type": "code",
      "execution_count": null,
      "metadata": {
        "id": "pJXHOkMGkVPo"
      },
      "outputs": [],
      "source": [
        "!pip install streamlit"
      ]
    },
    {
      "cell_type": "code",
      "source": [
        "#!curl -s https://ngrok-agent.s3.amazonaws.com/ngrok.asc | \\\n",
        " #     sudo tee /etc/apt/trusted.gpg.d/ngrok.asc >/dev/null && \\\n",
        "  #    echo \"deb https://ngrok-agent.s3.amazonaws.com buster main\" | \\\n",
        "   #   sudo tee /etc/apt/sources.list.d/ngrok.list && \\\n",
        "    #  sudo apt update && sudo apt install ngrok"
      ],
      "metadata": {
        "id": "zDTpnZl40qhc"
      },
      "execution_count": null,
      "outputs": []
    },
    {
      "cell_type": "code",
      "source": [
        "# install, set connection\n",
        "#!apt-get install mysql-server > /dev/null\n",
        "#!service mysql start\n",
        "#!mysql -e \"ALTER USER 'root'@'localhost' IDENTIFIED WITH mysql_native_password BY 'root'\"\n",
        "#!pip -q install PyMySQL\n",
        "%load_ext sql\n",
        "%config SqlMagic.feedback=False \n",
        "%config SqlMagic.autopandas=True\n",
        "%sql mysql+pymysql://root:root@/\n",
        "# query using %sql or %%sql\n",
        "df = %sql SELECT Host, User, authentication_string FROM mysql.user\n",
        "df"
      ],
      "metadata": {
        "id": "o8gn3vCjk03e"
      },
      "execution_count": null,
      "outputs": []
    },
    {
      "cell_type": "code",
      "source": [
        "!wget \"https://github.com/bashirk/Twitter-Data-Analysis/blob/main/data/Economic_Twitter_Data.zip?raw=true\" -O Economic_Twitter_Data.zip"
      ],
      "metadata": {
        "id": "byMiNV-RnpyR"
      },
      "execution_count": null,
      "outputs": []
    },
    {
      "cell_type": "code",
      "source": [
        "!7z x Economic_Twitter_Data.zip"
      ],
      "metadata": {
        "id": "gsJ-VTPynsmU"
      },
      "execution_count": null,
      "outputs": []
    },
    {
      "cell_type": "code",
      "source": [
        "ls -a"
      ],
      "metadata": {
        "id": "5Cw_Pa7Z3v6i"
      },
      "execution_count": null,
      "outputs": []
    },
    {
      "cell_type": "code",
      "source": [
        "!head -10 Economic_Twitter_Data.json"
      ],
      "metadata": {
        "id": "WOS4AKn4n4Z7"
      },
      "execution_count": null,
      "outputs": []
    },
    {
      "cell_type": "code",
      "source": [
        "!wget \"https://files.pythonhosted.org/packages/cf/44/cc9590db23758ee7906d40cacff06c02a21c2a6166602e095a56cbf2f6f6/tornado-6.1.tar.gz\" -O tornado-6.1.tar.gz"
      ],
      "metadata": {
        "id": "TxqXxFWNqEug"
      },
      "execution_count": null,
      "outputs": []
    },
    {
      "cell_type": "code",
      "source": [
        "%%writefile streamlit_app.py\n",
        "\n",
        "import streamlit as st\n",
        "import numpy as np\n",
        "import pandas as pd\n",
        "import matplotlib.pyplot as plt\n",
        "import seaborn as sns\n",
        "import plotly.express as px\n",
        "\n",
        "@st.cache\n",
        "def read_df():\n",
        "  df = pd.read_json('Economic_Twitter_Data.json', lines=True)\n",
        "  return df\n",
        "\n",
        "\n",
        "st.set_page_config(\n",
        "\t\tpage_title= \"Sentiment Analysis Dashboard\", # String or None. Strings get appended with \"• Streamlit\".\n",
        "\t\t layout=\"wide\",  # Can be \"centered\" or \"wide\". In the future also \"dashboard\", etc.\n",
        "\t\t #initial_sidebar_state=\"auto\",  # Can be \"auto\", \"expanded\", \"collapsed\"\n",
        "\t\t #page_icon=None,  # String, anything supported by st.image, or None.\n",
        ")\n",
        "\n",
        "col01, col02, col03 = st.columns([1,6,1])\n",
        "\n",
        "with col01:\n",
        "\tst.write(\"\")\n",
        "\n",
        "with col02:\n",
        "\tst.title(\"Welcome to sentiment analysis\")\n",
        "\n",
        "with col03:\n",
        "\tst.write(\"\")\n",
        " \n",
        "\n",
        "col04, col05, col06 = st.columns([1,6,1])\n",
        "\n",
        "with col04:\n",
        "\tst.write(\"\")\n",
        "\n",
        "with col05:\n",
        "\tst.subheader(\"Economic dataset preview\")\n",
        "\n",
        "with col06:\n",
        "\tst.write(\"\")\n",
        " \n",
        "\n",
        "df1 = read_df()\n",
        "\n",
        "col07, col08, col09 = st.columns([1,6,1])\n",
        "\n",
        "with col04:\n",
        "\tst.write(\"\")\n",
        "\n",
        "with col05:\n",
        "\tst.write(df1.head())\n",
        "\n",
        "with col06:\n",
        "\tst.write(\"\")\n",
        " \n",
        "col10, col11 = st.columns([4, 4])\n",
        "\n",
        "with col10:\n",
        "  st.subheader(\"Scatter Plot\")\n",
        "  fig = px.scatter(df1, x=\"sepal width\", y=\"sepal Length\", color=\"class\")\n",
        "  st.plotly_chart(fig, use_container_width=True)\n",
        "\n",
        "with col11:\n",
        "  st.subheader(\"Pair Plot\")\n",
        "  fig1 = sns.pairplot(df1, hue=\"class\")\n",
        "  st.pyplot(fig1)\n",
        "\n",
        "st.subheader(\"\")\n",
        "st.subheader(\"\")\n",
        "\n",
        "col12, col13 = st.columns([4, 4])\n",
        "\n",
        "with col12:\n",
        "  st.subheader(\"Histogram\")\n",
        "  fig2 = px.histogram(df1, x=\"petal width\", y=\"petal length\", color=\"class\", marginal=\"violin\", hover_data=df1.columns)\n",
        "  st.plotly_chart(fig2, use_container_width=True)\n",
        "\n",
        "with col13:\n",
        "  st.subheader(\"Displot\")\n",
        "  fig3 = sns.displot(data=df1, x=\"petal width\", hue=\"class\", multiple=\"stack\")\n",
        "  st.pyplot(fig3)"
      ],
      "metadata": {
        "id": "rH8pRVBnqqb5"
      },
      "execution_count": null,
      "outputs": []
    },
    {
      "cell_type": "code",
      "source": [
        "import json\n",
        "import pandas as pd\n",
        "from textblob import TextBlob\n",
        "\n",
        "import streamlit as st\n",
        "import numpy as np\n",
        "import pandas as pd\n",
        "import matplotlib.pyplot as plt\n",
        "import seaborn as sns\n",
        "import plotly.express as px"
      ],
      "metadata": {
        "id": "oe94XM97lOQ5"
      },
      "execution_count": null,
      "outputs": []
    },
    {
      "cell_type": "code",
      "source": [
        "import re\n",
        "from os import listdir\n",
        "from os.path import isfile, join\n",
        "from random import shuffle"
      ],
      "metadata": {
        "id": "APTuJGbQoP8Y"
      },
      "execution_count": null,
      "outputs": []
    },
    {
      "cell_type": "code",
      "source": [
        "from sklearn.feature_extraction.text import CountVectorizer, TfidfTransformer\n",
        "from sklearn.decomposition import NMF, LatentDirichletAllocation\n",
        "from sklearn.linear_model import SGDClassifier\n",
        "from sklearn.model_selection import train_test_split\n",
        "from sklearn.model_selection import RandomizedSearchCV"
      ],
      "metadata": {
        "id": "QDxUtdIMoWvE"
      },
      "execution_count": null,
      "outputs": []
    },
    {
      "cell_type": "code",
      "source": [
        "import numpy as np # linear algebra\n",
        "from joblib import dump, load # used for saving and loading sklearn objects\n",
        "from scipy.sparse import save_npz, load_npz # used for saving and loading sparse matrices\n",
        "from scipy.stats import uniform\n",
        "from scipy.sparse import csr_matrix"
      ],
      "metadata": {
        "id": "f-AdnJD6oh2B"
      },
      "execution_count": null,
      "outputs": []
    },
    {
      "cell_type": "code",
      "source": [
        "from pyngrok import ngrok"
      ],
      "metadata": {
        "id": "nV7CN92nrjzx"
      },
      "execution_count": null,
      "outputs": []
    },
    {
      "cell_type": "code",
      "source": [
        "!killall ngrok"
      ],
      "metadata": {
        "id": "sz_F7UFqyvt9"
      },
      "execution_count": null,
      "outputs": []
    },
    {
      "cell_type": "code",
      "source": [
        "!ngrok config add-authtoken 28U2nMC8SX5gj9Xyj5bURjPW0vb_4DZxdN5cTfZce8w66uTy4"
      ],
      "metadata": {
        "id": "ehLYnVkgyAnv"
      },
      "execution_count": null,
      "outputs": []
    },
    {
      "cell_type": "code",
      "source": [
        "!ngrok config upgrade --relocate"
      ],
      "metadata": {
        "id": "IPLBlzZ74gzo"
      },
      "execution_count": null,
      "outputs": []
    },
    {
      "cell_type": "code",
      "source": [
        "!ngrok http 8080"
      ],
      "metadata": {
        "id": "JVQGyJgA4CXm"
      },
      "execution_count": null,
      "outputs": []
    },
    {
      "cell_type": "code",
      "source": [
        "public_url = ngrok.connect(port=8888)\n",
        "public_url"
      ],
      "metadata": {
        "id": "Jdopz9cOxXVw"
      },
      "execution_count": null,
      "outputs": []
    },
    {
      "cell_type": "code",
      "source": [
        "ls -a"
      ],
      "metadata": {
        "id": "YUFiWy613N74"
      },
      "execution_count": null,
      "outputs": []
    }
  ]
}